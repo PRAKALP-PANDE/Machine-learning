{
 "cells": [
  {
   "cell_type": "code",
   "execution_count": 1,
   "id": "b255a865",
   "metadata": {},
   "outputs": [
    {
     "name": "stdout",
     "output_type": "stream",
     "text": [
      "Agent moved to state: 1\n",
      "Agent moved to state: 2\n",
      "Agent moved to state: 3\n",
      "Agent moved to state: 4\n",
      "Agent moved to state: 5\n",
      "Agent moved to state: 6\n",
      "Agent moved to state: 7\n",
      "Agent moved to state: 8\n",
      "Agent moved to state: 9\n",
      "Agent moved to state: 10\n",
      "Agent moved to state: 11\n",
      "Agent moved to state: 12\n",
      "Agent moved to state: 13\n",
      "Agent moved to state: 14\n",
      "Agent moved to state: 15\n",
      "Agent moved to state: 16\n",
      "Agent moved to state: 17\n",
      "Agent moved to state: 18\n",
      "Agent moved to state: 19\n",
      "Agent moved to state: 20\n",
      "Agent moved to state: 21\n",
      "Agent moved to state: 22\n",
      "Agent moved to state: 23\n",
      "Agent moved to state: 24\n"
     ]
    }
   ],
   "source": [
    "import numpy as np\n",
    "\n",
    "maze = np.array([[0, 0, 0, 0, 0], \n",
    "                 [0, 1, 0, 1, 0], \n",
    "                 [0, 0, 0, 0, 0], \n",
    "                 [0, 1, 1, 1, 0], \n",
    "                 [0, 0, 0, 0, 2]])\n",
    "\n",
    "lr, gamma, epsilon, episodes = 0.1, 0.9, 0.1, 1000\n",
    "Q, s, a = np.zeros((maze.size, 4)), 0, lambda: np.random.choice(4)\n",
    "for _ in range(episodes):\n",
    "    while True:\n",
    "        action = a() if np.random.rand() < epsilon else np.argmax(Q[s])\n",
    "        n_s = s + [0, 1, 5, -5][action]\n",
    "        r = [-1, 1, 0][maze.flat[n_s]]\n",
    "        if r: break\n",
    "        Q[s, action], s = Q[s, action] + lr * (r + gamma * np.max(Q[n_s]) - Q[s, action]), n_s\n",
    "\n",
    "c_s = 0\n",
    "while c_s != 24:\n",
    "    action, c_s = np.argmax(Q[c_s]), c_s + (action + 1)\n",
    "    print(\"Agent moved to state:\", c_s)\n"
   ]
  },
  {
   "cell_type": "code",
   "execution_count": null,
   "id": "bc9f15a2",
   "metadata": {},
   "outputs": [],
   "source": []
  }
 ],
 "metadata": {
  "kernelspec": {
   "display_name": "Python 3 (ipykernel)",
   "language": "python",
   "name": "python3"
  },
  "language_info": {
   "codemirror_mode": {
    "name": "ipython",
    "version": 3
   },
   "file_extension": ".py",
   "mimetype": "text/x-python",
   "name": "python",
   "nbconvert_exporter": "python",
   "pygments_lexer": "ipython3",
   "version": "3.11.3"
  }
 },
 "nbformat": 4,
 "nbformat_minor": 5
}
